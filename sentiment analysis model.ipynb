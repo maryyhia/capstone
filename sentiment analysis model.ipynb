{
 "cells": [
  {
   "cell_type": "code",
   "execution_count": 1,
   "id": "b1f3eac4",
   "metadata": {},
   "outputs": [
    {
     "name": "stderr",
     "output_type": "stream",
     "text": [
      "[nltk_data] Downloading package stopwords to\n",
      "[nltk_data]     C:\\Users\\maryy\\AppData\\Roaming\\nltk_data...\n",
      "[nltk_data]   Package stopwords is already up-to-date!\n"
     ]
    }
   ],
   "source": [
    "# Load libraries\n",
    "import pandas as pd\n",
    "import numpy as np\n",
    "\n",
    "# Data visualisation\n",
    "import matplotlib.pyplot as plt\n",
    "import seaborn as sns\n",
    "from wordcloud import WordCloud\n",
    "\n",
    "# Text processing\n",
    "import re\n",
    "import nltk\n",
    "from nltk.corpus import stopwords\n",
    "from nltk.stem import WordNetLemmatizer\n",
    "from sklearn.feature_extraction.text import CountVectorizer, TfidfVectorizer \n",
    "\n",
    "# Model building\n",
    "from sklearn.model_selection import train_test_split, GridSearchCV \n",
    "from sklearn.pipeline import Pipeline\n",
    "from sklearn.linear_model import LogisticRegression\n",
    "from sklearn.tree import DecisionTreeClassifier\n",
    "from sklearn.ensemble import RandomForestClassifier\n",
    "from sklearn.naive_bayes import MultinomialNB, BernoulliNB\n",
    "\n",
    "# Evaluation metrics\n",
    "from sklearn.metrics import confusion_matrix, f1_score, accuracy_score, classification_report, plot_roc_curve, roc_auc_score\n",
    "\n",
    "# Save model\n",
    "import pickle\n",
    "\n",
    "nltk.download('stopwords')\n",
    "stopwords = set(stopwords.words('english'))\n",
    "\n",
    "wn = WordNetLemmatizer()\n",
    "\n",
    "import warnings\n",
    "warnings.filterwarnings('ignore')\n",
    "%matplotlib inline"
   ]
  },
  {
   "cell_type": "code",
   "execution_count": 2,
   "id": "033cf808",
   "metadata": {},
   "outputs": [],
   "source": [
    "# Load data\n",
    "traindf = pd.read_csv('data/twitter_training.csv', header=None)\n",
    "testdf = pd.read_csv('data/twitter_validation.csv', header=None)"
   ]
  },
  {
   "cell_type": "code",
   "execution_count": 3,
   "id": "516c1486",
   "metadata": {},
   "outputs": [
    {
     "name": "stdout",
     "output_type": "stream",
     "text": [
      "Train data shape:  (74682, 4)\n",
      "Test data shape:  (1000, 4)\n"
     ]
    }
   ],
   "source": [
    "#shape of data\n",
    "print('Train data shape: ',traindf.shape) \n",
    "print('Test data shape: ',testdf.shape)"
   ]
  },
  {
   "cell_type": "code",
   "execution_count": 4,
   "id": "12c50fa0",
   "metadata": {},
   "outputs": [
    {
     "data": {
      "text/html": [
       "<div>\n",
       "<style scoped>\n",
       "    .dataframe tbody tr th:only-of-type {\n",
       "        vertical-align: middle;\n",
       "    }\n",
       "\n",
       "    .dataframe tbody tr th {\n",
       "        vertical-align: top;\n",
       "    }\n",
       "\n",
       "    .dataframe thead th {\n",
       "        text-align: right;\n",
       "    }\n",
       "</style>\n",
       "<table border=\"1\" class=\"dataframe\">\n",
       "  <thead>\n",
       "    <tr style=\"text-align: right;\">\n",
       "      <th></th>\n",
       "      <th>0</th>\n",
       "      <th>1</th>\n",
       "      <th>2</th>\n",
       "      <th>3</th>\n",
       "    </tr>\n",
       "  </thead>\n",
       "  <tbody>\n",
       "    <tr>\n",
       "      <th>0</th>\n",
       "      <td>2401</td>\n",
       "      <td>Borderlands</td>\n",
       "      <td>Positive</td>\n",
       "      <td>im getting on borderlands and i will murder yo...</td>\n",
       "    </tr>\n",
       "    <tr>\n",
       "      <th>1</th>\n",
       "      <td>2401</td>\n",
       "      <td>Borderlands</td>\n",
       "      <td>Positive</td>\n",
       "      <td>I am coming to the borders and I will kill you...</td>\n",
       "    </tr>\n",
       "    <tr>\n",
       "      <th>2</th>\n",
       "      <td>2401</td>\n",
       "      <td>Borderlands</td>\n",
       "      <td>Positive</td>\n",
       "      <td>im getting on borderlands and i will kill you ...</td>\n",
       "    </tr>\n",
       "    <tr>\n",
       "      <th>3</th>\n",
       "      <td>2401</td>\n",
       "      <td>Borderlands</td>\n",
       "      <td>Positive</td>\n",
       "      <td>im coming on borderlands and i will murder you...</td>\n",
       "    </tr>\n",
       "    <tr>\n",
       "      <th>4</th>\n",
       "      <td>2401</td>\n",
       "      <td>Borderlands</td>\n",
       "      <td>Positive</td>\n",
       "      <td>im getting on borderlands 2 and i will murder ...</td>\n",
       "    </tr>\n",
       "  </tbody>\n",
       "</table>\n",
       "</div>"
      ],
      "text/plain": [
       "      0            1         2  \\\n",
       "0  2401  Borderlands  Positive   \n",
       "1  2401  Borderlands  Positive   \n",
       "2  2401  Borderlands  Positive   \n",
       "3  2401  Borderlands  Positive   \n",
       "4  2401  Borderlands  Positive   \n",
       "\n",
       "                                                   3  \n",
       "0  im getting on borderlands and i will murder yo...  \n",
       "1  I am coming to the borders and I will kill you...  \n",
       "2  im getting on borderlands and i will kill you ...  \n",
       "3  im coming on borderlands and i will murder you...  \n",
       "4  im getting on borderlands 2 and i will murder ...  "
      ]
     },
     "execution_count": 4,
     "metadata": {},
     "output_type": "execute_result"
    }
   ],
   "source": [
    "traindf.head()"
   ]
  },
  {
   "cell_type": "code",
   "execution_count": 5,
   "id": "2a861033",
   "metadata": {},
   "outputs": [
    {
     "data": {
      "text/html": [
       "<div>\n",
       "<style scoped>\n",
       "    .dataframe tbody tr th:only-of-type {\n",
       "        vertical-align: middle;\n",
       "    }\n",
       "\n",
       "    .dataframe tbody tr th {\n",
       "        vertical-align: top;\n",
       "    }\n",
       "\n",
       "    .dataframe thead th {\n",
       "        text-align: right;\n",
       "    }\n",
       "</style>\n",
       "<table border=\"1\" class=\"dataframe\">\n",
       "  <thead>\n",
       "    <tr style=\"text-align: right;\">\n",
       "      <th></th>\n",
       "      <th>0</th>\n",
       "      <th>1</th>\n",
       "      <th>2</th>\n",
       "      <th>3</th>\n",
       "    </tr>\n",
       "  </thead>\n",
       "  <tbody>\n",
       "    <tr>\n",
       "      <th>0</th>\n",
       "      <td>3364</td>\n",
       "      <td>Facebook</td>\n",
       "      <td>Irrelevant</td>\n",
       "      <td>I mentioned on Facebook that I was struggling ...</td>\n",
       "    </tr>\n",
       "    <tr>\n",
       "      <th>1</th>\n",
       "      <td>352</td>\n",
       "      <td>Amazon</td>\n",
       "      <td>Neutral</td>\n",
       "      <td>BBC News - Amazon boss Jeff Bezos rejects clai...</td>\n",
       "    </tr>\n",
       "    <tr>\n",
       "      <th>2</th>\n",
       "      <td>8312</td>\n",
       "      <td>Microsoft</td>\n",
       "      <td>Negative</td>\n",
       "      <td>@Microsoft Why do I pay for WORD when it funct...</td>\n",
       "    </tr>\n",
       "    <tr>\n",
       "      <th>3</th>\n",
       "      <td>4371</td>\n",
       "      <td>CS-GO</td>\n",
       "      <td>Negative</td>\n",
       "      <td>CSGO matchmaking is so full of closet hacking,...</td>\n",
       "    </tr>\n",
       "    <tr>\n",
       "      <th>4</th>\n",
       "      <td>4433</td>\n",
       "      <td>Google</td>\n",
       "      <td>Neutral</td>\n",
       "      <td>Now the President is slapping Americans in the...</td>\n",
       "    </tr>\n",
       "  </tbody>\n",
       "</table>\n",
       "</div>"
      ],
      "text/plain": [
       "      0          1           2  \\\n",
       "0  3364   Facebook  Irrelevant   \n",
       "1   352     Amazon     Neutral   \n",
       "2  8312  Microsoft    Negative   \n",
       "3  4371      CS-GO    Negative   \n",
       "4  4433     Google     Neutral   \n",
       "\n",
       "                                                   3  \n",
       "0  I mentioned on Facebook that I was struggling ...  \n",
       "1  BBC News - Amazon boss Jeff Bezos rejects clai...  \n",
       "2  @Microsoft Why do I pay for WORD when it funct...  \n",
       "3  CSGO matchmaking is so full of closet hacking,...  \n",
       "4  Now the President is slapping Americans in the...  "
      ]
     },
     "execution_count": 5,
     "metadata": {},
     "output_type": "execute_result"
    }
   ],
   "source": [
    "testdf.head()"
   ]
  },
  {
   "cell_type": "markdown",
   "id": "56fa6fdb",
   "metadata": {},
   "source": [
    "Both train and test have the same columns. We will create a function to rename the columns. This will allow greater readability of the data. "
   ]
  },
  {
   "cell_type": "code",
   "execution_count": 6,
   "id": "f6817b93",
   "metadata": {},
   "outputs": [],
   "source": [
    "# Rename columns\n",
    "def rename_columns(df):\n",
    "    df.rename(columns= {0:'Tweet_ID',1:'Topic',2:'Sentiment',3:'Tweet'},inplace=True)"
   ]
  },
  {
   "cell_type": "code",
   "execution_count": 7,
   "id": "ec5837e5",
   "metadata": {
    "scrolled": true
   },
   "outputs": [
    {
     "data": {
      "text/html": [
       "<div>\n",
       "<style scoped>\n",
       "    .dataframe tbody tr th:only-of-type {\n",
       "        vertical-align: middle;\n",
       "    }\n",
       "\n",
       "    .dataframe tbody tr th {\n",
       "        vertical-align: top;\n",
       "    }\n",
       "\n",
       "    .dataframe thead th {\n",
       "        text-align: right;\n",
       "    }\n",
       "</style>\n",
       "<table border=\"1\" class=\"dataframe\">\n",
       "  <thead>\n",
       "    <tr style=\"text-align: right;\">\n",
       "      <th></th>\n",
       "      <th>Tweet_ID</th>\n",
       "      <th>Topic</th>\n",
       "      <th>Sentiment</th>\n",
       "      <th>Tweet</th>\n",
       "    </tr>\n",
       "  </thead>\n",
       "  <tbody>\n",
       "    <tr>\n",
       "      <th>0</th>\n",
       "      <td>2401</td>\n",
       "      <td>Borderlands</td>\n",
       "      <td>Positive</td>\n",
       "      <td>im getting on borderlands and i will murder yo...</td>\n",
       "    </tr>\n",
       "    <tr>\n",
       "      <th>1</th>\n",
       "      <td>2401</td>\n",
       "      <td>Borderlands</td>\n",
       "      <td>Positive</td>\n",
       "      <td>I am coming to the borders and I will kill you...</td>\n",
       "    </tr>\n",
       "    <tr>\n",
       "      <th>2</th>\n",
       "      <td>2401</td>\n",
       "      <td>Borderlands</td>\n",
       "      <td>Positive</td>\n",
       "      <td>im getting on borderlands and i will kill you ...</td>\n",
       "    </tr>\n",
       "    <tr>\n",
       "      <th>3</th>\n",
       "      <td>2401</td>\n",
       "      <td>Borderlands</td>\n",
       "      <td>Positive</td>\n",
       "      <td>im coming on borderlands and i will murder you...</td>\n",
       "    </tr>\n",
       "    <tr>\n",
       "      <th>4</th>\n",
       "      <td>2401</td>\n",
       "      <td>Borderlands</td>\n",
       "      <td>Positive</td>\n",
       "      <td>im getting on borderlands 2 and i will murder ...</td>\n",
       "    </tr>\n",
       "  </tbody>\n",
       "</table>\n",
       "</div>"
      ],
      "text/plain": [
       "   Tweet_ID        Topic Sentiment  \\\n",
       "0      2401  Borderlands  Positive   \n",
       "1      2401  Borderlands  Positive   \n",
       "2      2401  Borderlands  Positive   \n",
       "3      2401  Borderlands  Positive   \n",
       "4      2401  Borderlands  Positive   \n",
       "\n",
       "                                               Tweet  \n",
       "0  im getting on borderlands and i will murder yo...  \n",
       "1  I am coming to the borders and I will kill you...  \n",
       "2  im getting on borderlands and i will kill you ...  \n",
       "3  im coming on borderlands and i will murder you...  \n",
       "4  im getting on borderlands 2 and i will murder ...  "
      ]
     },
     "execution_count": 7,
     "metadata": {},
     "output_type": "execute_result"
    }
   ],
   "source": [
    "# Rename columns for traindf\n",
    "rename_columns(traindf)\n",
    "traindf.head()"
   ]
  },
  {
   "cell_type": "code",
   "execution_count": 8,
   "id": "36484dcc",
   "metadata": {},
   "outputs": [
    {
     "data": {
      "text/html": [
       "<div>\n",
       "<style scoped>\n",
       "    .dataframe tbody tr th:only-of-type {\n",
       "        vertical-align: middle;\n",
       "    }\n",
       "\n",
       "    .dataframe tbody tr th {\n",
       "        vertical-align: top;\n",
       "    }\n",
       "\n",
       "    .dataframe thead th {\n",
       "        text-align: right;\n",
       "    }\n",
       "</style>\n",
       "<table border=\"1\" class=\"dataframe\">\n",
       "  <thead>\n",
       "    <tr style=\"text-align: right;\">\n",
       "      <th></th>\n",
       "      <th>Tweet_ID</th>\n",
       "      <th>Topic</th>\n",
       "      <th>Sentiment</th>\n",
       "      <th>Tweet</th>\n",
       "    </tr>\n",
       "  </thead>\n",
       "  <tbody>\n",
       "    <tr>\n",
       "      <th>0</th>\n",
       "      <td>3364</td>\n",
       "      <td>Facebook</td>\n",
       "      <td>Irrelevant</td>\n",
       "      <td>I mentioned on Facebook that I was struggling ...</td>\n",
       "    </tr>\n",
       "    <tr>\n",
       "      <th>1</th>\n",
       "      <td>352</td>\n",
       "      <td>Amazon</td>\n",
       "      <td>Neutral</td>\n",
       "      <td>BBC News - Amazon boss Jeff Bezos rejects clai...</td>\n",
       "    </tr>\n",
       "    <tr>\n",
       "      <th>2</th>\n",
       "      <td>8312</td>\n",
       "      <td>Microsoft</td>\n",
       "      <td>Negative</td>\n",
       "      <td>@Microsoft Why do I pay for WORD when it funct...</td>\n",
       "    </tr>\n",
       "    <tr>\n",
       "      <th>3</th>\n",
       "      <td>4371</td>\n",
       "      <td>CS-GO</td>\n",
       "      <td>Negative</td>\n",
       "      <td>CSGO matchmaking is so full of closet hacking,...</td>\n",
       "    </tr>\n",
       "    <tr>\n",
       "      <th>4</th>\n",
       "      <td>4433</td>\n",
       "      <td>Google</td>\n",
       "      <td>Neutral</td>\n",
       "      <td>Now the President is slapping Americans in the...</td>\n",
       "    </tr>\n",
       "  </tbody>\n",
       "</table>\n",
       "</div>"
      ],
      "text/plain": [
       "   Tweet_ID      Topic   Sentiment  \\\n",
       "0      3364   Facebook  Irrelevant   \n",
       "1       352     Amazon     Neutral   \n",
       "2      8312  Microsoft    Negative   \n",
       "3      4371      CS-GO    Negative   \n",
       "4      4433     Google     Neutral   \n",
       "\n",
       "                                               Tweet  \n",
       "0  I mentioned on Facebook that I was struggling ...  \n",
       "1  BBC News - Amazon boss Jeff Bezos rejects clai...  \n",
       "2  @Microsoft Why do I pay for WORD when it funct...  \n",
       "3  CSGO matchmaking is so full of closet hacking,...  \n",
       "4  Now the President is slapping Americans in the...  "
      ]
     },
     "execution_count": 8,
     "metadata": {},
     "output_type": "execute_result"
    }
   ],
   "source": [
    "# Rename columns for testdf\n",
    "rename_columns(testdf)\n",
    "testdf.head()"
   ]
  },
  {
   "cell_type": "code",
   "execution_count": 9,
   "id": "26d4ba33",
   "metadata": {},
   "outputs": [
    {
     "data": {
      "text/html": [
       "<div>\n",
       "<style scoped>\n",
       "    .dataframe tbody tr th:only-of-type {\n",
       "        vertical-align: middle;\n",
       "    }\n",
       "\n",
       "    .dataframe tbody tr th {\n",
       "        vertical-align: top;\n",
       "    }\n",
       "\n",
       "    .dataframe thead th {\n",
       "        text-align: right;\n",
       "    }\n",
       "</style>\n",
       "<table border=\"1\" class=\"dataframe\">\n",
       "  <thead>\n",
       "    <tr style=\"text-align: right;\">\n",
       "      <th></th>\n",
       "      <th>missing_value_count</th>\n",
       "      <th>% of dataset</th>\n",
       "    </tr>\n",
       "  </thead>\n",
       "  <tbody>\n",
       "    <tr>\n",
       "      <th>Tweet</th>\n",
       "      <td>686</td>\n",
       "      <td>0.92</td>\n",
       "    </tr>\n",
       "  </tbody>\n",
       "</table>\n",
       "</div>"
      ],
      "text/plain": [
       "       missing_value_count  % of dataset\n",
       "Tweet                  686          0.92"
      ]
     },
     "execution_count": 9,
     "metadata": {},
     "output_type": "execute_result"
    }
   ],
   "source": [
    "# Check Null values, traindf\n",
    "null_stats = pd.DataFrame(traindf.isnull().sum(), columns = ['missing_value_count'])\n",
    "null_stats.loc[:,'% of dataset'] = np.round(null_stats.loc[:,'missing_value_count']/traindf.shape[0]*100,2)\n",
    "null_stats.loc[null_stats.loc[:,'missing_value_count']>0,:].sort_values(by='missing_value_count',ascending=False)"
   ]
  },
  {
   "cell_type": "markdown",
   "id": "e29d6121",
   "metadata": {},
   "source": [
    "The missing values only account for 0.92% of the data, so we will drop them. "
   ]
  },
  {
   "cell_type": "code",
   "execution_count": 10,
   "id": "2f1182f9",
   "metadata": {},
   "outputs": [],
   "source": [
    "# Drop null values\n",
    "traindf.dropna(axis=0,inplace=True)"
   ]
  },
  {
   "cell_type": "code",
   "execution_count": 11,
   "id": "4adb862a",
   "metadata": {},
   "outputs": [
    {
     "data": {
      "text/html": [
       "<div>\n",
       "<style scoped>\n",
       "    .dataframe tbody tr th:only-of-type {\n",
       "        vertical-align: middle;\n",
       "    }\n",
       "\n",
       "    .dataframe tbody tr th {\n",
       "        vertical-align: top;\n",
       "    }\n",
       "\n",
       "    .dataframe thead th {\n",
       "        text-align: right;\n",
       "    }\n",
       "</style>\n",
       "<table border=\"1\" class=\"dataframe\">\n",
       "  <thead>\n",
       "    <tr style=\"text-align: right;\">\n",
       "      <th></th>\n",
       "      <th>missing_value_count</th>\n",
       "      <th>% of dataset</th>\n",
       "    </tr>\n",
       "  </thead>\n",
       "  <tbody>\n",
       "  </tbody>\n",
       "</table>\n",
       "</div>"
      ],
      "text/plain": [
       "Empty DataFrame\n",
       "Columns: [missing_value_count, % of dataset]\n",
       "Index: []"
      ]
     },
     "execution_count": 11,
     "metadata": {},
     "output_type": "execute_result"
    }
   ],
   "source": [
    "# Check Null values, traindf\n",
    "null_stats = pd.DataFrame(traindf.isnull().sum(), columns = ['missing_value_count'])\n",
    "null_stats.loc[:,'% of dataset'] = np.round(null_stats.loc[:,'missing_value_count']/traindf.shape[0]*100,2)\n",
    "null_stats.loc[null_stats.loc[:,'missing_value_count']>0,:].sort_values(by='missing_value_count',ascending=False)"
   ]
  },
  {
   "cell_type": "code",
   "execution_count": 12,
   "id": "17ebf0ee",
   "metadata": {},
   "outputs": [
    {
     "data": {
      "text/html": [
       "<div>\n",
       "<style scoped>\n",
       "    .dataframe tbody tr th:only-of-type {\n",
       "        vertical-align: middle;\n",
       "    }\n",
       "\n",
       "    .dataframe tbody tr th {\n",
       "        vertical-align: top;\n",
       "    }\n",
       "\n",
       "    .dataframe thead th {\n",
       "        text-align: right;\n",
       "    }\n",
       "</style>\n",
       "<table border=\"1\" class=\"dataframe\">\n",
       "  <thead>\n",
       "    <tr style=\"text-align: right;\">\n",
       "      <th></th>\n",
       "      <th>missing_value_count</th>\n",
       "      <th>% of dataset</th>\n",
       "    </tr>\n",
       "  </thead>\n",
       "  <tbody>\n",
       "  </tbody>\n",
       "</table>\n",
       "</div>"
      ],
      "text/plain": [
       "Empty DataFrame\n",
       "Columns: [missing_value_count, % of dataset]\n",
       "Index: []"
      ]
     },
     "execution_count": 12,
     "metadata": {},
     "output_type": "execute_result"
    }
   ],
   "source": [
    "# Check Null values, testdf\n",
    "null_stats = pd.DataFrame(testdf.isnull().sum(), columns = ['missing_value_count'])\n",
    "null_stats.loc[:,'% of dataset'] = np.round(null_stats.loc[:,'missing_value_count']/testdf.shape[0]*100,2)\n",
    "null_stats.loc[null_stats.loc[:,'missing_value_count']>0,:].sort_values(by='missing_value_count',ascending=False)"
   ]
  },
  {
   "cell_type": "markdown",
   "id": "80cfe7d3",
   "metadata": {},
   "source": [
    "No missing values in the test data."
   ]
  },
  {
   "cell_type": "code",
   "execution_count": 13,
   "id": "09b540ec",
   "metadata": {},
   "outputs": [
    {
     "name": "stdout",
     "output_type": "stream",
     "text": [
      "<class 'pandas.core.frame.DataFrame'>\n",
      "Int64Index: 73996 entries, 0 to 74681\n",
      "Data columns (total 4 columns):\n",
      " #   Column     Non-Null Count  Dtype \n",
      "---  ------     --------------  ----- \n",
      " 0   Tweet_ID   73996 non-null  int64 \n",
      " 1   Topic      73996 non-null  object\n",
      " 2   Sentiment  73996 non-null  object\n",
      " 3   Tweet      73996 non-null  object\n",
      "dtypes: int64(1), object(3)\n",
      "memory usage: 2.8+ MB\n"
     ]
    }
   ],
   "source": [
    "traindf.info()"
   ]
  },
  {
   "cell_type": "code",
   "execution_count": 14,
   "id": "dcd871a4",
   "metadata": {},
   "outputs": [
    {
     "name": "stdout",
     "output_type": "stream",
     "text": [
      "Distinct Values: \n",
      "\n",
      "Topic ---------\n",
      "MaddenNFL                            2377\n",
      "LeagueOfLegends                      2377\n",
      "CallOfDuty                           2376\n",
      "Verizon                              2365\n",
      "TomClancysRainbowSix                 2364\n",
      "Facebook                             2362\n",
      "Microsoft                            2361\n",
      "Dota2                                2359\n",
      "WorldOfCraft                         2357\n",
      "ApexLegends                          2353\n",
      "NBA2K                                2343\n",
      "CallOfDutyBlackopsColdWar            2343\n",
      "FIFA                                 2324\n",
      "johnson&johnson                      2324\n",
      "TomClancysGhostRecon                 2321\n",
      "Battlefield                          2316\n",
      "Overwatch                            2316\n",
      "GrandTheftAuto(GTA)                  2293\n",
      "HomeDepot                            2292\n",
      "PlayStation5(PS5)                    2291\n",
      "Hearthstone                          2286\n",
      "CS-GO                                2284\n",
      "Xbox(Xseries)                        2283\n",
      "Borderlands                          2280\n",
      "Amazon                               2276\n",
      "Google                               2274\n",
      "Nvidia                               2271\n",
      "Cyberpunk2077                        2262\n",
      "RedDeadRedemption(RDR)               2249\n",
      "Fortnite                             2249\n",
      "PlayerUnknownsBattlegrounds(PUBG)    2234\n",
      "AssassinsCreed                       2234\n",
      "Name: Topic, dtype: int64\n",
      "\n",
      "\n",
      "Sentiment ---------\n",
      "Negative      22358\n",
      "Positive      20655\n",
      "Neutral       18108\n",
      "Irrelevant    12875\n",
      "Name: Sentiment, dtype: int64\n",
      "\n",
      "\n"
     ]
    }
   ],
   "source": [
    "print('Distinct Values: \\n')\n",
    "col=['Topic','Sentiment']\n",
    "for i in col:\n",
    "    print(i,'---------')\n",
    "    print(traindf[i].value_counts())\n",
    "    print('\\n')"
   ]
  },
  {
   "cell_type": "code",
   "execution_count": 15,
   "id": "3e8fca13",
   "metadata": {},
   "outputs": [
    {
     "data": {
      "image/png": "[encoded data removed]",
      "text/plain": [
       "<Figure size 1080x360 with 2 Axes>"
      ]
     },
     "metadata": {
      "needs_background": "light"
     },
     "output_type": "display_data"
    }
   ],
   "source": [
    "# Visualising sentiment feature \n",
    "plt.figure(figsize=(15,5))\n",
    "\n",
    "#plot pie chart\n",
    "plt.subplot(1,2,1)\n",
    "label = traindf['Sentiment'].value_counts().index\n",
    "label_count = traindf['Sentiment'].value_counts().values\n",
    "plt.pie(data=traindf, x=label_count, labels=label, autopct='%1.1f%%', shadow=True, radius=1.5)\n",
    "\n",
    "#plot countplot\n",
    "plt.subplot(1,2,2)\n",
    "ax = sns.countplot(x='Sentiment', data=traindf, order=label)\n",
    "for p in ax.patches:\n",
    "    height=p.get_height()\n",
    "    ax.text(x=p.get_x()+(p.get_width()/2),\n",
    "    y=height+0.2,ha='center',s='{:.0f}'.format(height))\n",
    "plt.show()"
   ]
  },
  {
   "cell_type": "markdown",
   "id": "80ec320a",
   "metadata": {},
   "source": [
    "Data is observe to be balanced. Texts in Tweet column will be preprocessed. "
   ]
  },
  {
   "cell_type": "code",
   "execution_count": 16,
   "id": "2aad8a6e",
   "metadata": {},
   "outputs": [],
   "source": [
    "# make a dictionary of contractions\n",
    "contractions = {\"ain't\": \"is not\", \"aren't\": \"are not\",\"can't\": \"cannot\", \"'cause\": \"because\", \"could've\": \"could have\", \"couldn't\": \"could not\",\n",
    "                           \"didn't\": \"did not\",  \"doesn't\": \"does not\", \"don't\": \"do not\", \"hadn't\": \"had not\", \"hasn't\": \"has not\", \"haven't\": \"have not\",\n",
    "                           \"he'd\": \"he would\",\"he'll\": \"he will\", \"he's\": \"he is\", \"how'd\": \"how did\", \"how'd'y\": \"how do you\", \"how'll\": \"how will\", \"how's\": \"how is\",\n",
    "                           \"I'd\": \"I would\", \"I'd've\": \"I would have\", \"I'll\": \"I will\", \"I'll've\": \"I will have\",\"I'm\": \"I am\", \"I've\": \"I have\", \"i'd\": \"i would\",\n",
    "                           \"i'd've\": \"i would have\", \"i'll\": \"i will\",  \"i'll've\": \"i will have\",\"i'm\": \"i am\", \"i've\": \"i have\", \"isn't\": \"is not\", \"it'd\": \"it would\",\n",
    "                           \"it'd've\": \"it would have\", \"it'll\": \"it will\", \"it'll've\": \"it will have\",\"it's\": \"it is\", \"let's\": \"let us\", \"ma'am\": \"madam\",\n",
    "                           \"mayn't\": \"may not\", \"might've\": \"might have\",\"mightn't\": \"might not\",\"mightn't've\": \"might not have\", \"must've\": \"must have\",\n",
    "                           \"mustn't\": \"must not\", \"mustn't've\": \"must not have\", \"needn't\": \"need not\", \"needn't've\": \"need not have\",\"o'clock\": \"of the clock\",\n",
    "                           \"oughtn't\": \"ought not\", \"oughtn't've\": \"ought not have\", \"shan't\": \"shall not\", \"sha'n't\": \"shall not\", \"shan't've\": \"shall not have\",\n",
    "                           \"she'd\": \"she would\", \"she'd've\": \"she would have\", \"she'll\": \"she will\", \"she'll've\": \"she will have\", \"she's\": \"she is\",\n",
    "                           \"should've\": \"should have\", \"shouldn't\": \"should not\", \"shouldn't've\": \"should not have\", \"so've\": \"so have\",\"so's\": \"so as\",\n",
    "                           \"this's\": \"this is\",\"that'd\": \"that would\", \"that'd've\": \"that would have\", \"that's\": \"that is\", \"there'd\": \"there would\",\n",
    "                           \"there'd've\": \"there would have\", \"there's\": \"there is\", \"here's\": \"here is\",\"they'd\": \"they would\", \"they'd've\": \"they would have\",\n",
    "                           \"they'll\": \"they will\", \"they'll've\": \"they will have\", \"they're\": \"they are\", \"they've\": \"they have\", \"to've\": \"to have\",\n",
    "                           \"wasn't\": \"was not\", \"we'd\": \"we would\", \"we'd've\": \"we would have\", \"we'll\": \"we will\", \"we'll've\": \"we will have\", \"we're\": \"we are\",\n",
    "                           \"we've\": \"we have\", \"weren't\": \"were not\", \"what'll\": \"what will\", \"what'll've\": \"what will have\", \"what're\": \"what are\",\n",
    "                           \"what's\": \"what is\", \"what've\": \"what have\", \"when's\": \"when is\", \"when've\": \"when have\", \"where'd\": \"where did\", \"where's\": \"where is\",\n",
    "                           \"where've\": \"where have\", \"who'll\": \"who will\", \"who'll've\": \"who will have\", \"who's\": \"who is\", \"who've\": \"who have\",\n",
    "                           \"why's\": \"why is\", \"why've\": \"why have\", \"will've\": \"will have\", \"won't\": \"will not\", \"won't've\": \"will not have\",\n",
    "                           \"would've\": \"would have\", \"wouldn't\": \"would not\", \"wouldn't've\": \"would not have\", \"y'all\": \"you all\",\n",
    "                           \"y'all'd\": \"you all would\",\"y'all'd've\": \"you all would have\",\"y'all're\": \"you all are\",\"y'all've\": \"you all have\",\n",
    "                           \"you'd\": \"you would\", \"you'd've\": \"you would have\", \"you'll\": \"you will\", \"you'll've\": \"you will have\",\n",
    "                           \"you're\": \"you are\", \"you've\": \"you have\"}"
   ]
  },
  {
   "cell_type": "code",
   "execution_count": 17,
   "id": "910add52",
   "metadata": {},
   "outputs": [],
   "source": [
    "# preprocessing\n",
    "def clean_text(text):\n",
    "    # convert to lower case\n",
    "    text = text.lower()\n",
    "    #remove user handle\n",
    "    text = re.sub(\"@[\\w]*\", '', text)\n",
    "    #remove http links\n",
    "    text = re.sub(\"http\\S+\", '', text)\n",
    "    #remove digits and spl characters\n",
    "    text = re.sub(\"[^a-zA-Z#]\", ' ', text)\n",
    "    #remove contractions\n",
    "    text = ' '.join([contractions[t] if t in contractions else t for t in text.split(\" \")])\n",
    "    #tokenize text\n",
    "    tokens = re.split('\\W+', text)\n",
    "    #remove stopwords\n",
    "    text = ' '.join([wn.lemmatize(word) for word in tokens if word not in stopwords])\n",
    "    # remove hashtag\n",
    "    text = re.sub('(#[A-Za-z]+[A-Za-z0-9-_]+)', '', text)\n",
    "    #remove rt characters\n",
    "    text = re.sub(\"rt\", '', text)\n",
    "    #remove additional spaces\n",
    "    text = re.sub(\"\\s+\", ' ', text)\n",
    "    \n",
    "    return text"
   ]
  },
  {
   "cell_type": "code",
   "execution_count": 18,
   "id": "48b53d4c",
   "metadata": {},
   "outputs": [],
   "source": [
    "traindf['Clean_Tweet'] = traindf['Tweet'].apply(clean_text)"
   ]
  },
  {
   "cell_type": "code",
   "execution_count": 19,
   "id": "f2e44585",
   "metadata": {},
   "outputs": [
    {
     "data": {
      "text/html": [
       "<div>\n",
       "<style scoped>\n",
       "    .dataframe tbody tr th:only-of-type {\n",
       "        vertical-align: middle;\n",
       "    }\n",
       "\n",
       "    .dataframe tbody tr th {\n",
       "        vertical-align: top;\n",
       "    }\n",
       "\n",
       "    .dataframe thead th {\n",
       "        text-align: right;\n",
       "    }\n",
       "</style>\n",
       "<table border=\"1\" class=\"dataframe\">\n",
       "  <thead>\n",
       "    <tr style=\"text-align: right;\">\n",
       "      <th></th>\n",
       "      <th>Tweet_ID</th>\n",
       "      <th>Topic</th>\n",
       "      <th>Sentiment</th>\n",
       "      <th>Tweet</th>\n",
       "      <th>Clean_Tweet</th>\n",
       "    </tr>\n",
       "  </thead>\n",
       "  <tbody>\n",
       "    <tr>\n",
       "      <th>0</th>\n",
       "      <td>2401</td>\n",
       "      <td>Borderlands</td>\n",
       "      <td>Positive</td>\n",
       "      <td>im getting on borderlands and i will murder yo...</td>\n",
       "      <td>im getting borderland murder</td>\n",
       "    </tr>\n",
       "    <tr>\n",
       "      <th>1</th>\n",
       "      <td>2401</td>\n",
       "      <td>Borderlands</td>\n",
       "      <td>Positive</td>\n",
       "      <td>I am coming to the borders and I will kill you...</td>\n",
       "      <td>coming border kill</td>\n",
       "    </tr>\n",
       "    <tr>\n",
       "      <th>2</th>\n",
       "      <td>2401</td>\n",
       "      <td>Borderlands</td>\n",
       "      <td>Positive</td>\n",
       "      <td>im getting on borderlands and i will kill you ...</td>\n",
       "      <td>im getting borderland kill</td>\n",
       "    </tr>\n",
       "    <tr>\n",
       "      <th>3</th>\n",
       "      <td>2401</td>\n",
       "      <td>Borderlands</td>\n",
       "      <td>Positive</td>\n",
       "      <td>im coming on borderlands and i will murder you...</td>\n",
       "      <td>im coming borderland murder</td>\n",
       "    </tr>\n",
       "    <tr>\n",
       "      <th>4</th>\n",
       "      <td>2401</td>\n",
       "      <td>Borderlands</td>\n",
       "      <td>Positive</td>\n",
       "      <td>im getting on borderlands 2 and i will murder ...</td>\n",
       "      <td>im getting borderland murder</td>\n",
       "    </tr>\n",
       "    <tr>\n",
       "      <th>...</th>\n",
       "      <td>...</td>\n",
       "      <td>...</td>\n",
       "      <td>...</td>\n",
       "      <td>...</td>\n",
       "      <td>...</td>\n",
       "    </tr>\n",
       "    <tr>\n",
       "      <th>74677</th>\n",
       "      <td>9200</td>\n",
       "      <td>Nvidia</td>\n",
       "      <td>Positive</td>\n",
       "      <td>Just realized that the Windows partition of my...</td>\n",
       "      <td>realized window paition mac like year behind n...</td>\n",
       "    </tr>\n",
       "    <tr>\n",
       "      <th>74678</th>\n",
       "      <td>9200</td>\n",
       "      <td>Nvidia</td>\n",
       "      <td>Positive</td>\n",
       "      <td>Just realized that my Mac window partition is ...</td>\n",
       "      <td>realized mac window paition year behind nvidia...</td>\n",
       "    </tr>\n",
       "    <tr>\n",
       "      <th>74679</th>\n",
       "      <td>9200</td>\n",
       "      <td>Nvidia</td>\n",
       "      <td>Positive</td>\n",
       "      <td>Just realized the windows partition of my Mac ...</td>\n",
       "      <td>realized window paition mac year behind nvidia...</td>\n",
       "    </tr>\n",
       "    <tr>\n",
       "      <th>74680</th>\n",
       "      <td>9200</td>\n",
       "      <td>Nvidia</td>\n",
       "      <td>Positive</td>\n",
       "      <td>Just realized between the windows partition of...</td>\n",
       "      <td>realized window paition mac like year behind n...</td>\n",
       "    </tr>\n",
       "    <tr>\n",
       "      <th>74681</th>\n",
       "      <td>9200</td>\n",
       "      <td>Nvidia</td>\n",
       "      <td>Positive</td>\n",
       "      <td>Just like the windows partition of my Mac is l...</td>\n",
       "      <td>like window paition mac like year behind drive...</td>\n",
       "    </tr>\n",
       "  </tbody>\n",
       "</table>\n",
       "<p>73996 rows × 5 columns</p>\n",
       "</div>"
      ],
      "text/plain": [
       "       Tweet_ID        Topic Sentiment  \\\n",
       "0          2401  Borderlands  Positive   \n",
       "1          2401  Borderlands  Positive   \n",
       "2          2401  Borderlands  Positive   \n",
       "3          2401  Borderlands  Positive   \n",
       "4          2401  Borderlands  Positive   \n",
       "...         ...          ...       ...   \n",
       "74677      9200       Nvidia  Positive   \n",
       "74678      9200       Nvidia  Positive   \n",
       "74679      9200       Nvidia  Positive   \n",
       "74680      9200       Nvidia  Positive   \n",
       "74681      9200       Nvidia  Positive   \n",
       "\n",
       "                                                   Tweet  \\\n",
       "0      im getting on borderlands and i will murder yo...   \n",
       "1      I am coming to the borders and I will kill you...   \n",
       "2      im getting on borderlands and i will kill you ...   \n",
       "3      im coming on borderlands and i will murder you...   \n",
       "4      im getting on borderlands 2 and i will murder ...   \n",
       "...                                                  ...   \n",
       "74677  Just realized that the Windows partition of my...   \n",
       "74678  Just realized that my Mac window partition is ...   \n",
       "74679  Just realized the windows partition of my Mac ...   \n",
       "74680  Just realized between the windows partition of...   \n",
       "74681  Just like the windows partition of my Mac is l...   \n",
       "\n",
       "                                             Clean_Tweet  \n",
       "0                          im getting borderland murder   \n",
       "1                                    coming border kill   \n",
       "2                            im getting borderland kill   \n",
       "3                           im coming borderland murder   \n",
       "4                          im getting borderland murder   \n",
       "...                                                  ...  \n",
       "74677  realized window paition mac like year behind n...  \n",
       "74678  realized mac window paition year behind nvidia...  \n",
       "74679  realized window paition mac year behind nvidia...  \n",
       "74680  realized window paition mac like year behind n...  \n",
       "74681  like window paition mac like year behind drive...  \n",
       "\n",
       "[73996 rows x 5 columns]"
      ]
     },
     "execution_count": 19,
     "metadata": {},
     "output_type": "execute_result"
    }
   ],
   "source": [
    "traindf"
   ]
  },
  {
   "cell_type": "markdown",
   "id": "63e482b3",
   "metadata": {},
   "source": [
    "Modelling"
   ]
  },
  {
   "cell_type": "code",
   "execution_count": 20,
   "id": "078773fc",
   "metadata": {},
   "outputs": [],
   "source": [
    "# Establish X and y\n",
    "X= traindf['Clean_Tweet']\n",
    "y= traindf['Sentiment']\n",
    "\n",
    "# Train, test split\n",
    "X_train, X_test, y_train, y_test = train_test_split(X, y, train_size=0.7, test_size=0.3, random_state=10)"
   ]
  },
  {
   "cell_type": "markdown",
   "id": "14ea40af",
   "metadata": {},
   "source": [
    "By using pipelines it would help automate and streamline the modelling process. Fed into the pipelines are the vectorizers and the classifiers to help train our models. By creating different vectorizer and classifier combinations, this allows for a choice of the best model combination. \n",
    "\n",
    "Vectorizers:\n",
    "- CountVectorizer\n",
    "- TF-IDF\n",
    "\n",
    "Classifiers:\n",
    "- Bernoulli Naive Bayes\n",
    "- Multinomial Naive Bayes\n",
    "- Random Forest"
   ]
  },
  {
   "cell_type": "code",
   "execution_count": 44,
   "id": "237e0b63",
   "metadata": {},
   "outputs": [
    {
     "name": "stdout",
     "output_type": "stream",
     "text": [
      "Model Score:  0.7481868552637506\n"
     ]
    }
   ],
   "source": [
    "#baseline model\n",
    "# Instantiate a TFIDF + LogisticRegression\n",
    "baseline = Pipeline([('tfidf', TfidfVectorizer(analyzer='word')),\n",
    "                ('logR', LogisticRegression())])\n",
    "\n",
    "# Fit\n",
    "baseline.fit(X_train, y_train);\n",
    "\n",
    "# Evalute best model\n",
    "print('Model Score: ', baseline.score(X_test, y_test))"
   ]
  },
  {
   "cell_type": "code",
   "execution_count": 21,
   "id": "ddda25cc",
   "metadata": {},
   "outputs": [
    {
     "name": "stdout",
     "output_type": "stream",
     "text": [
      "Model Score:  0.3872246497589982\n"
     ]
    }
   ],
   "source": [
    "# pipe\n",
    "# Instantiate a CountVectorizer + BernoulliNB\n",
    "pipe = Pipeline([('count', CountVectorizer(analyzer = 'word')),\n",
    "                ('Bern', BernoulliNB(binarize=True))])\n",
    "\n",
    "# Fit\n",
    "pipe.fit(X_train, y_train);\n",
    "\n",
    "# Evalute best model\n",
    "print('Model Score: ', pipe.score(X_test, y_test))"
   ]
  },
  {
   "cell_type": "code",
   "execution_count": 22,
   "id": "230c71ca",
   "metadata": {},
   "outputs": [
    {
     "name": "stdout",
     "output_type": "stream",
     "text": [
      "Model Score:  0.7283210955448444\n"
     ]
    }
   ],
   "source": [
    "# pipe2\n",
    "# Instantiate a CountVectorizer + MultinomialNB\n",
    "pipe2 = Pipeline([('count', CountVectorizer(analyzer = 'word')),\n",
    "                ('Multi', MultinomialNB())])\n",
    "\n",
    "# Fit \n",
    "pipe2.fit(X_train, y_train);\n",
    "\n",
    "\n",
    "# Evalute best model\n",
    "print('Model Score: ', pipe2.score(X_test, y_test))"
   ]
  },
  {
   "cell_type": "code",
   "execution_count": 23,
   "id": "a1d6e898",
   "metadata": {},
   "outputs": [
    {
     "name": "stdout",
     "output_type": "stream",
     "text": [
      "Model Score:  0.8973377179152214\n"
     ]
    }
   ],
   "source": [
    "# pipe3\n",
    "# Instantiate a CountVectorizer + RandomForestClassifier\n",
    "pipe3 = Pipeline([('count', CountVectorizer(analyzer = 'word')),\n",
    "                ('rforest', RandomForestClassifier(n_estimators=200, random_state= 10))])\n",
    "\n",
    "# Fit\n",
    "pipe3.fit(X_train, y_train);\n",
    "\n",
    "# Evalute best model\n",
    "print('Model Score: ', pipe3.score(X_test, y_test))"
   ]
  },
  {
   "cell_type": "code",
   "execution_count": 24,
   "id": "ef424586",
   "metadata": {},
   "outputs": [
    {
     "name": "stdout",
     "output_type": "stream",
     "text": [
      "Model Score:  0.30271633857380964\n"
     ]
    }
   ],
   "source": [
    "# pipe4\n",
    "# Instantiate a TF-IDF + BernoulliNB\n",
    "pipe4 = Pipeline([('tfidf', TfidfVectorizer(analyzer='word')),\n",
    "                ('Bern', BernoulliNB(binarize=True))])\n",
    "\n",
    "# Fit \n",
    "pipe4.fit(X_train, y_train);\n",
    "\n",
    "# Evalute best model\n",
    "print('Model Score: ', pipe4.score(X_test, y_test))"
   ]
  },
  {
   "cell_type": "code",
   "execution_count": 25,
   "id": "1d5fb859",
   "metadata": {},
   "outputs": [
    {
     "name": "stdout",
     "output_type": "stream",
     "text": [
      "Model Score:  0.7102572187936393\n"
     ]
    }
   ],
   "source": [
    "# pipe5\n",
    "# Instantiate a TF-IDF + MultinomialNB\n",
    "pipe5 = Pipeline([('tfidf', TfidfVectorizer(analyzer='word')),\n",
    "                ('Multi', MultinomialNB())])\n",
    "\n",
    "# Fit \n",
    "pipe5.fit(X_train, y_train);\n",
    "\n",
    "# Evalute best model\n",
    "print('Model Score: ', pipe5.score(X_test, y_test))"
   ]
  },
  {
   "cell_type": "code",
   "execution_count": 26,
   "id": "e713e533",
   "metadata": {},
   "outputs": [
    {
     "name": "stdout",
     "output_type": "stream",
     "text": [
      "Model Score:  0.9013018604441642\n"
     ]
    }
   ],
   "source": [
    "# pipe6\n",
    "# Instantiate a TF-IDF + RandomForestClassifier\n",
    "pipe6 = Pipeline([('tfidf', TfidfVectorizer(analyzer='word')),\n",
    "                ('rforest', RandomForestClassifier(n_estimators=200, random_state= 10))])\n",
    "\n",
    "# Fit \n",
    "pipe6.fit(X_train, y_train);\n",
    "\n",
    "# Evalute best model\n",
    "print('Model Score: ', pipe6.score(X_test, y_test))"
   ]
  },
  {
   "cell_type": "code",
   "execution_count": null,
   "id": "c5dfb664",
   "metadata": {},
   "outputs": [],
   "source": []
  },
  {
   "cell_type": "markdown",
   "id": "f81f5203",
   "metadata": {},
   "source": [
    "PIPELINES WITH GRIDSEARCHCV"
   ]
  },
  {
   "cell_type": "code",
   "execution_count": 27,
   "id": "e7a86e89",
   "metadata": {},
   "outputs": [
    {
     "data": {
      "text/plain": [
       "{'memory': None,\n",
       " 'steps': [('count', CountVectorizer()), ('Bern', BernoulliNB(binarize=True))],\n",
       " 'verbose': False,\n",
       " 'count': CountVectorizer(),\n",
       " 'Bern': BernoulliNB(binarize=True),\n",
       " 'count__analyzer': 'word',\n",
       " 'count__binary': False,\n",
       " 'count__decode_error': 'strict',\n",
       " 'count__dtype': numpy.int64,\n",
       " 'count__encoding': 'utf-8',\n",
       " 'count__input': 'content',\n",
       " 'count__lowercase': True,\n",
       " 'count__max_df': 1.0,\n",
       " 'count__max_features': None,\n",
       " 'count__min_df': 1,\n",
       " 'count__ngram_range': (1, 1),\n",
       " 'count__preprocessor': None,\n",
       " 'count__stop_words': None,\n",
       " 'count__strip_accents': None,\n",
       " 'count__token_pattern': '(?u)\\\\b\\\\w\\\\w+\\\\b',\n",
       " 'count__tokenizer': None,\n",
       " 'count__vocabulary': None,\n",
       " 'Bern__alpha': 1.0,\n",
       " 'Bern__binarize': True,\n",
       " 'Bern__class_prior': None,\n",
       " 'Bern__fit_prior': True}"
      ]
     },
     "execution_count": 27,
     "metadata": {},
     "output_type": "execute_result"
    }
   ],
   "source": [
    "# Parameters tuning for pipe\n",
    "pipe.get_params()"
   ]
  },
  {
   "cell_type": "code",
   "execution_count": 28,
   "id": "578c083e",
   "metadata": {},
   "outputs": [
    {
     "name": "stdout",
     "output_type": "stream",
     "text": [
      "Fitting 5 folds for each of 108 candidates, totalling 540 fits\n",
      "Best Score:  0.896190908545383\n",
      "Best Estimator:  Pipeline(steps=[('count',\n",
      "                 CountVectorizer(max_df=0.5, min_df=0.0, ngram_range=(1, 2))),\n",
      "                ('Bern', BernoulliNB(alpha=0))])\n",
      "Model Score:  0.9047704851569891\n"
     ]
    }
   ],
   "source": [
    "# Hyperparametertuning for pipe\n",
    "pipe = Pipeline([('count', CountVectorizer()),\n",
    "                ('Bern', BernoulliNB())])\n",
    "\n",
    "# Define dictionary hyperparameters\n",
    "pipe_params = {'count__analyzer': ['word', 'char', 'char_wb'],\n",
    "               'count__max_df': [0.0, 0.5, 1.0], \n",
    "               'count__min_df': [0.0, 1.0],\n",
    "               'count__ngram_range': [(1,1), (1,2), (1,3)],\n",
    "               'Bern__alpha' : [0, 1]} \n",
    "\n",
    "# Instantiate GridSearchCV\n",
    "pipe_grid = GridSearchCV(pipe,pipe_params, cv=5, verbose=2, n_jobs= -1)\n",
    "\n",
    "# Fit the gridsearch object to data\n",
    "pipe_grid.fit(X_train, y_train);\n",
    "\n",
    "# Score\n",
    "print('Best Score: ', pipe_grid.best_score_)\n",
    "\n",
    "# Best estimator\n",
    "print('Best Estimator: ', pipe_grid.best_estimator_)\n",
    "\n",
    "# Evalute best model\n",
    "print('Model Score: ', pipe_grid.score(X_test, y_test))"
   ]
  },
  {
   "cell_type": "code",
   "execution_count": 29,
   "id": "6f062bbf",
   "metadata": {},
   "outputs": [
    {
     "data": {
      "text/plain": [
       "{'memory': None,\n",
       " 'steps': [('count', CountVectorizer()), ('Multi', MultinomialNB())],\n",
       " 'verbose': False,\n",
       " 'count': CountVectorizer(),\n",
       " 'Multi': MultinomialNB(),\n",
       " 'count__analyzer': 'word',\n",
       " 'count__binary': False,\n",
       " 'count__decode_error': 'strict',\n",
       " 'count__dtype': numpy.int64,\n",
       " 'count__encoding': 'utf-8',\n",
       " 'count__input': 'content',\n",
       " 'count__lowercase': True,\n",
       " 'count__max_df': 1.0,\n",
       " 'count__max_features': None,\n",
       " 'count__min_df': 1,\n",
       " 'count__ngram_range': (1, 1),\n",
       " 'count__preprocessor': None,\n",
       " 'count__stop_words': None,\n",
       " 'count__strip_accents': None,\n",
       " 'count__token_pattern': '(?u)\\\\b\\\\w\\\\w+\\\\b',\n",
       " 'count__tokenizer': None,\n",
       " 'count__vocabulary': None,\n",
       " 'Multi__alpha': 1.0,\n",
       " 'Multi__class_prior': None,\n",
       " 'Multi__fit_prior': True}"
      ]
     },
     "execution_count": 29,
     "metadata": {},
     "output_type": "execute_result"
    }
   ],
   "source": [
    "pipe2.get_params()"
   ]
  },
  {
   "cell_type": "code",
   "execution_count": 30,
   "id": "cb802bbe",
   "metadata": {},
   "outputs": [
    {
     "name": "stdout",
     "output_type": "stream",
     "text": [
      "Fitting 5 folds for each of 270 candidates, totalling 1350 fits\n",
      "Best Score:  0.9078131786993646\n",
      "Best Estimator:  Pipeline(steps=[('count',\n",
      "                 CountVectorizer(max_df=0.5, min_df=0.0, ngram_range=(1, 3))),\n",
      "                ('Multi', MultinomialNB(alpha=0))])\n",
      "Model Score:  0.9139600882922654\n"
     ]
    }
   ],
   "source": [
    "# Hyperparametertuning for pipe\n",
    "pipe2 = Pipeline([('count', CountVectorizer()),\n",
    "                ('Multi', MultinomialNB())])\n",
    "\n",
    "# Define dictionary hyperparameters\n",
    "pipe2_params = {'count__analyzer': ['word', 'char', 'char_wb'],\n",
    "               'count__max_df': [0.0, 0.5, 1.0], \n",
    "               'count__min_df': [0.0, 1.0],\n",
    "               'count__ngram_range': [(1,1), (1,2), (1,3)],\n",
    "               'Multi__alpha' : [0, 0.2, 0.5, 0.75, 1]} \n",
    "\n",
    "# Instantiate GridSearchCV\n",
    "pipe2_grid = GridSearchCV(pipe2,pipe2_params, cv=5, verbose=2, n_jobs= -1)\n",
    "\n",
    "# Fit the gridsearch object to data\n",
    "pipe2_grid.fit(X_train, y_train);\n",
    "\n",
    "# Score\n",
    "print('Best Score: ', pipe2_grid.best_score_)\n",
    "\n",
    "# Best estimator\n",
    "print('Best Estimator: ', pipe2_grid.best_estimator_)\n",
    "\n",
    "# Evalute best model\n",
    "print('Model Score: ', pipe2_grid.score(X_test, y_test))"
   ]
  },
  {
   "cell_type": "code",
   "execution_count": 31,
   "id": "45aec090",
   "metadata": {},
   "outputs": [
    {
     "data": {
      "text/plain": [
       "{'memory': None,\n",
       " 'steps': [('count', CountVectorizer()),\n",
       "  ('rforest', RandomForestClassifier(n_estimators=200, random_state=10))],\n",
       " 'verbose': False,\n",
       " 'count': CountVectorizer(),\n",
       " 'rforest': RandomForestClassifier(n_estimators=200, random_state=10),\n",
       " 'count__analyzer': 'word',\n",
       " 'count__binary': False,\n",
       " 'count__decode_error': 'strict',\n",
       " 'count__dtype': numpy.int64,\n",
       " 'count__encoding': 'utf-8',\n",
       " 'count__input': 'content',\n",
       " 'count__lowercase': True,\n",
       " 'count__max_df': 1.0,\n",
       " 'count__max_features': None,\n",
       " 'count__min_df': 1,\n",
       " 'count__ngram_range': (1, 1),\n",
       " 'count__preprocessor': None,\n",
       " 'count__stop_words': None,\n",
       " 'count__strip_accents': None,\n",
       " 'count__token_pattern': '(?u)\\\\b\\\\w\\\\w+\\\\b',\n",
       " 'count__tokenizer': None,\n",
       " 'count__vocabulary': None,\n",
       " 'rforest__bootstrap': True,\n",
       " 'rforest__ccp_alpha': 0.0,\n",
       " 'rforest__class_weight': None,\n",
       " 'rforest__criterion': 'gini',\n",
       " 'rforest__max_depth': None,\n",
       " 'rforest__max_features': 'auto',\n",
       " 'rforest__max_leaf_nodes': None,\n",
       " 'rforest__max_samples': None,\n",
       " 'rforest__min_impurity_decrease': 0.0,\n",
       " 'rforest__min_samples_leaf': 1,\n",
       " 'rforest__min_samples_split': 2,\n",
       " 'rforest__min_weight_fraction_leaf': 0.0,\n",
       " 'rforest__n_estimators': 200,\n",
       " 'rforest__n_jobs': None,\n",
       " 'rforest__oob_score': False,\n",
       " 'rforest__random_state': 10,\n",
       " 'rforest__verbose': 0,\n",
       " 'rforest__warm_start': False}"
      ]
     },
     "execution_count": 31,
     "metadata": {},
     "output_type": "execute_result"
    }
   ],
   "source": [
    "pipe3.get_params()"
   ]
  },
  {
   "cell_type": "code",
   "execution_count": 34,
   "id": "2dbc429a",
   "metadata": {},
   "outputs": [
    {
     "name": "stdout",
     "output_type": "stream",
     "text": [
      "Fitting 5 folds for each of 576 candidates, totalling 2880 fits\n",
      "Best Score:  0.602390197694281\n",
      "Best Estimator:  Pipeline(steps=[('count',\n",
      "                 CountVectorizer(analyzer='char_wb', min_df=0.0,\n",
      "                                 ngram_range=(1, 2))),\n",
      "                ('rforest',\n",
      "                 RandomForestClassifier(max_depth=15, min_samples_leaf=5,\n",
      "                                        min_samples_split=5, n_estimators=500,\n",
      "                                        random_state=10))])\n",
      "Model Score:  0.618135952069913\n"
     ]
    }
   ],
   "source": [
    "# Hyperparametertuning for pipe\n",
    "pipe3 = Pipeline([('count', CountVectorizer()),\n",
    "                ('rforest', RandomForestClassifier(random_state = 10))])\n",
    "\n",
    "# Define dictionary hyperparameters\n",
    "pipe3_params = {'count__analyzer': ['word', 'char', 'char_wb'],\n",
    "               'count__max_df': [0.5, 1.0], \n",
    "               'count__min_df': [0.0, 1.0],\n",
    "               'count__ngram_range': [(1,1), (1,2), (1,3)],\n",
    "               'rforest__n_estimators':[200, 500],\n",
    "               'rforest__max_depth': [10, 15],\n",
    "               'rforest__min_samples_leaf': [5, 10],\n",
    "               'rforest__min_samples_split': [5, 10]} \n",
    "\n",
    "\n",
    "# Instantiate GridSearchCV\n",
    "pipe3_grid = GridSearchCV(pipe3,pipe3_params, cv=5, verbose=2, n_jobs = -1)\n",
    "\n",
    "# Fit the gridsearch object to data\n",
    "pipe3_grid.fit(X_train, y_train);\n",
    "\n",
    "# Score\n",
    "print('Best Score: ', pipe3_grid.best_score_)\n",
    "\n",
    "# Best estimator\n",
    "print('Best Estimator: ', pipe3_grid.best_estimator_)\n",
    "\n",
    "# Evalute best model\n",
    "print('Model Score: ', pipe3_grid.score(X_test, y_test))"
   ]
  },
  {
   "cell_type": "code",
   "execution_count": 35,
   "id": "fc751a84",
   "metadata": {
    "scrolled": true
   },
   "outputs": [
    {
     "data": {
      "text/plain": [
       "{'memory': None,\n",
       " 'steps': [('tfidf', TfidfVectorizer()), ('Bern', BernoulliNB(binarize=True))],\n",
       " 'verbose': False,\n",
       " 'tfidf': TfidfVectorizer(),\n",
       " 'Bern': BernoulliNB(binarize=True),\n",
       " 'tfidf__analyzer': 'word',\n",
       " 'tfidf__binary': False,\n",
       " 'tfidf__decode_error': 'strict',\n",
       " 'tfidf__dtype': numpy.float64,\n",
       " 'tfidf__encoding': 'utf-8',\n",
       " 'tfidf__input': 'content',\n",
       " 'tfidf__lowercase': True,\n",
       " 'tfidf__max_df': 1.0,\n",
       " 'tfidf__max_features': None,\n",
       " 'tfidf__min_df': 1,\n",
       " 'tfidf__ngram_range': (1, 1),\n",
       " 'tfidf__norm': 'l2',\n",
       " 'tfidf__preprocessor': None,\n",
       " 'tfidf__smooth_idf': True,\n",
       " 'tfidf__stop_words': None,\n",
       " 'tfidf__strip_accents': None,\n",
       " 'tfidf__sublinear_tf': False,\n",
       " 'tfidf__token_pattern': '(?u)\\\\b\\\\w\\\\w+\\\\b',\n",
       " 'tfidf__tokenizer': None,\n",
       " 'tfidf__use_idf': True,\n",
       " 'tfidf__vocabulary': None,\n",
       " 'Bern__alpha': 1.0,\n",
       " 'Bern__binarize': True,\n",
       " 'Bern__class_prior': None,\n",
       " 'Bern__fit_prior': True}"
      ]
     },
     "execution_count": 35,
     "metadata": {},
     "output_type": "execute_result"
    }
   ],
   "source": [
    "pipe4.get_params()"
   ]
  },
  {
   "cell_type": "code",
   "execution_count": 36,
   "id": "86841334",
   "metadata": {},
   "outputs": [
    {
     "name": "stdout",
     "output_type": "stream",
     "text": [
      "Fitting 5 folds for each of 36 candidates, totalling 180 fits\n",
      "Best Score:  0.7724193499693065\n",
      "Best Estimator:  Pipeline(steps=[('tfidf', TfidfVectorizer(max_df=0.5, min_df=0.0)),\n",
      "                ('Bern', BernoulliNB(alpha=0))])\n",
      "Model Score:  0.7768367944502005\n"
     ]
    }
   ],
   "source": [
    "# Hyperparametertuning for pipe\n",
    "pipe4 = Pipeline([('tfidf', TfidfVectorizer()),\n",
    "                ('Bern', BernoulliNB())])\n",
    "\n",
    "# Define dictionary hyperparameters\n",
    "pipe4_params = {'tfidf__analyzer': ['word', 'char', 'char_wb'],\n",
    "               'tfidf__max_df': [0.0, 0.5, 1.0], \n",
    "               'tfidf__min_df': [0.0, 1.0],\n",
    "               'Bern__alpha' : [0, 1]} \n",
    "\n",
    "# Instantiate GridSearchCV\n",
    "pipe4_grid = GridSearchCV(pipe4,pipe4_params, cv=5, verbose=2, n_jobs = -1)\n",
    "\n",
    "# Fit the gridsearch object to data\n",
    "pipe4_grid.fit(X_train, y_train);\n",
    "\n",
    "# Score\n",
    "print('Best Score: ', pipe4_grid.best_score_)\n",
    "\n",
    "# Best estimator\n",
    "print('Best Estimator: ', pipe4_grid.best_estimator_)\n",
    "\n",
    "# Evalute best model\n",
    "print('Model Score: ', pipe4_grid.score(X_test, y_test))"
   ]
  },
  {
   "cell_type": "code",
   "execution_count": 37,
   "id": "7007004a",
   "metadata": {},
   "outputs": [
    {
     "name": "stdout",
     "output_type": "stream",
     "text": [
      "Fitting 5 folds for each of 90 candidates, totalling 450 fits\n",
      "Best Score:  0.7869760613287979\n",
      "Best Estimator:  Pipeline(steps=[('tfidf', TfidfVectorizer(max_df=0.5, min_df=0.0)),\n",
      "                ('Multi', MultinomialNB(alpha=0))])\n",
      "Model Score:  0.7920176584530835\n"
     ]
    }
   ],
   "source": [
    "# Hyperparametertuning for pipe\n",
    "pipe5 = Pipeline([('tfidf', TfidfVectorizer()),\n",
    "                ('Multi', MultinomialNB())])\n",
    "\n",
    "# Define dictionary hyperparameters\n",
    "pipe5_params = {'tfidf__analyzer': ['word', 'char', 'char_wb'],\n",
    "               'tfidf__max_df': [0.0, 0.5, 1.0], \n",
    "               'tfidf__min_df': [0.0, 1.0],\n",
    "               'Multi__alpha' : [0, 0.2, 0.5, 0.75, 1]} \n",
    "\n",
    "# Instantiate GridSearchCV\n",
    "pipe5_grid = GridSearchCV(pipe5,pipe5_params, cv=5, verbose=1)\n",
    "\n",
    "# Fit the gridsearch object to data\n",
    "pipe5_grid.fit(X_train, y_train);\n",
    "\n",
    "# Score\n",
    "print('Best Score: ', pipe5_grid.best_score_)\n",
    "\n",
    "# Best estimator\n",
    "print('Best Estimator: ', pipe5_grid.best_estimator_)\n",
    "\n",
    "# Evalute best model\n",
    "print('Model Score: ', pipe5_grid.score(X_test, y_test))"
   ]
  },
  {
   "cell_type": "code",
   "execution_count": 38,
   "id": "0632bcd7",
   "metadata": {},
   "outputs": [
    {
     "name": "stdout",
     "output_type": "stream",
     "text": [
      "Fitting 5 folds for each of 192 candidates, totalling 960 fits\n",
      "Best Score:  0.5420006254237357\n",
      "Best Estimator:  Pipeline(steps=[('tfidf', TfidfVectorizer(analyzer='char', min_df=0.0)),\n",
      "                ('rforest',\n",
      "                 RandomForestClassifier(max_depth=15, min_samples_leaf=5,\n",
      "                                        min_samples_split=5, n_estimators=500,\n",
      "                                        random_state=10))])\n",
      "Model Score:  0.5540339654939411\n"
     ]
    }
   ],
   "source": [
    "# Hyperparametertuning for pipe\n",
    "pipe6 = Pipeline([('tfidf', TfidfVectorizer()),\n",
    "                ('rforest', RandomForestClassifier(random_state = 10))])\n",
    "\n",
    "# Define dictionary hyperparameters\n",
    "pipe6_params = {'tfidf__analyzer': ['word', 'char', 'char_wb'],\n",
    "               'tfidf__max_df': [0.5, 1.0], \n",
    "               'tfidf__min_df': [0.0, 1.0],\n",
    "               'rforest__n_estimators':[200, 500],\n",
    "               'rforest__max_depth': [10, 15],\n",
    "               'rforest__min_samples_leaf': [5, 10],\n",
    "               'rforest__min_samples_split': [5, 10]} \n",
    "\n",
    "# Instantiate GridSearchCV\n",
    "pipe6_grid = GridSearchCV(pipe6,pipe6_params, cv=5, verbose=1)\n",
    "\n",
    "# Fit the gridsearch object to data\n",
    "pipe6_grid.fit(X_train, y_train);\n",
    "\n",
    "# Score\n",
    "print('Best Score: ', pipe6_grid.best_score_)\n",
    "\n",
    "# Best estimator\n",
    "print('Best Estimator: ', pipe6_grid.best_estimator_)\n",
    "\n",
    "# Evalute best model\n",
    "print('Model Score: ', pipe6_grid.score(X_test, y_test))"
   ]
  },
  {
   "cell_type": "code",
   "execution_count": null,
   "id": "c56a6c4c",
   "metadata": {},
   "outputs": [],
   "source": []
  },
  {
   "cell_type": "code",
   "execution_count": 39,
   "id": "09714be2",
   "metadata": {},
   "outputs": [],
   "source": [
    "pred = pipe2_grid.predict(X_test)"
   ]
  },
  {
   "cell_type": "code",
   "execution_count": 40,
   "id": "30a1714c",
   "metadata": {},
   "outputs": [
    {
     "name": "stdout",
     "output_type": "stream",
     "text": [
      "[[3404  198   69  166]\n",
      " [ 117 6340  112  151]\n",
      " [  67  286 4931  175]\n",
      " [  96  351  122 5614]]\n",
      "              precision    recall  f1-score   support\n",
      "\n",
      "  Irrelevant       0.92      0.89      0.91      3837\n",
      "    Negative       0.88      0.94      0.91      6720\n",
      "     Neutral       0.94      0.90      0.92      5459\n",
      "    Positive       0.92      0.91      0.91      6183\n",
      "\n",
      "    accuracy                           0.91     22199\n",
      "   macro avg       0.92      0.91      0.91     22199\n",
      "weighted avg       0.91      0.91      0.91     22199\n",
      "\n"
     ]
    }
   ],
   "source": [
    "# Display classfication metrics\n",
    "print(confusion_matrix(y_test, pred))\n",
    "print(classification_report(y_test, pred))"
   ]
  },
  {
   "cell_type": "code",
   "execution_count": 41,
   "id": "19d368da",
   "metadata": {},
   "outputs": [],
   "source": [
    "# Save model\n",
    "pickle.dump(pipe2_grid, open('model.pkl', 'wb'))"
   ]
  },
  {
   "cell_type": "code",
   "execution_count": null,
   "id": "a7e94189",
   "metadata": {},
   "outputs": [],
   "source": []
  }
 ],
 "metadata": {
  "kernelspec": {
   "display_name": "Python 3 (ipykernel)",
   "language": "python",
   "name": "python3"
  },
  "language_info": {
   "codemirror_mode": {
    "name": "ipython",
    "version": 3
   },
   "file_extension": ".py",
   "mimetype": "text/x-python",
   "name": "python",
   "nbconvert_exporter": "python",
   "pygments_lexer": "ipython3",
   "version": "3.9.12"
  }
 },
 "nbformat": 4,
 "nbformat_minor": 5
}
